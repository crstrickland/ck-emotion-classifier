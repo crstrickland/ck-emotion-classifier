{
 "cells": [
  {
   "cell_type": "code",
   "execution_count": 1,
   "metadata": {},
   "outputs": [
    {
     "name": "stderr",
     "output_type": "stream",
     "text": [
      "Using TensorFlow backend.\n"
     ]
    }
   ],
   "source": [
    "import keras\n",
    "\n",
    "from __future__ import absolute_import\n",
    "from __future__ import division\n",
    "from __future__ import print_function\n",
    "\n",
    "import tensorflow as tf\n",
    "import os\n",
    "import numpy as np\n",
    "import cv2\n",
    "import random\n",
    "\n",
    "tf.logging.set_verbosity(tf.logging.INFO)\n",
    "\n",
    "# emotion coding: 0=neutral, 1=anger, 2=contempt, 3=disgust, 4=fear, 5=happy, 6=sadness, 7=surprise\n",
    "# e_labels = [0, 1, 2, 3, 4, 5, 6, 7]\n",
    "# this is not in the domain of our loss function, so we will increase all values by 1"
   ]
  },
  {
   "cell_type": "code",
   "execution_count": 32,
   "metadata": {},
   "outputs": [
    {
     "name": "stdout",
     "output_type": "stream",
     "text": [
      "1308  tagged images found\n"
     ]
    }
   ],
   "source": [
    "def get_tagged_images():\n",
    "    emotions = []\n",
    "    for path, name, files in os.walk('Emotion'):\n",
    "        for file in files:\n",
    "            if(file):\n",
    "                with open(os.path.join(path, file)) as curf:\n",
    "                    n = int(file[-14:-12])\n",
    "                    \n",
    "                    score = int(curf.read().strip(' ')[:1]) + 1\n",
    "                    \n",
    "                    # There are only labels in the dataset for the last image in a sequence, but the few before that are \n",
    "                    # still quite expressive. Including them will greatly augment our dataset. \n",
    "                    for i in range(4):\n",
    "                        fi = file[:-14] + str(n - i).zfill(2) + \"_emotion.txt\"\n",
    "                        emotions.append((os.path.join(path, file), fi[:-4], score))\n",
    "\n",
    "    \n",
    "    print(len(emotions), \" tagged images found\")\n",
    "    return emotions\n",
    "\n",
    "emotions = get_tagged_images()"
   ]
  },
  {
   "cell_type": "code",
   "execution_count": 15,
   "metadata": {},
   "outputs": [
    {
     "name": "stdout",
     "output_type": "stream",
     "text": [
      "(327, 340, 340, 3)\n",
      "(340, 340, 3)\n",
      "(327, 340, 340, 3)\n"
     ]
    }
   ],
   "source": [
    "# want shape (num images, 115,600)\n",
    "\n",
    "def get_image_data():\n",
    "    \n",
    "    data = []\n",
    "    labels = []\n",
    "\n",
    "    for i in range(len(emotions)):        \n",
    "        im = os.path.join(os.path.join('aligned', emotions[i][1][:-8] + '.png'))\n",
    "        \n",
    "        # need to make the images three channels so that the pretrained model will work\n",
    "  \n",
    "        img = cv2.cvtColor(cv2.imread(im, 0), cv2.COLOR_GRAY2BGR)\n",
    "        nimg = cv2.normalize(img.astype('float'), None, 0, 1,norm_type=cv2.NORM_MINMAX)\n",
    "\n",
    "        data.append(nimg)\n",
    "        labels.append(emotions[i][2])\n",
    "\n",
    "    npdata = tf.stack(np.array(data, dtype=np.float32))\n",
    "    nplabels = np.array(labels, dtype=np.int32)\n",
    "\n",
    "\n",
    "    print(npdata.shape)\n",
    "    npdata\n",
    "    return npdata, nplabels\n",
    "    \n",
    "a, b = get_image_data()\n",
    "print(a[0].shape)\n",
    "print(a.shape)"
   ]
  },
  {
   "cell_type": "code",
   "execution_count": 16,
   "metadata": {},
   "outputs": [
    {
     "name": "stdout",
     "output_type": "stream",
     "text": [
      "Tensor(\"strided_slice_3:0\", shape=(340, 340, 3), dtype=float32)\n",
      "(327, 340, 340, 3)\n"
     ]
    }
   ],
   "source": [
    "print(a[0])\n",
    "print(a.shape)"
   ]
  },
  {
   "cell_type": "code",
   "execution_count": 23,
   "metadata": {},
   "outputs": [
    {
     "name": "stdout",
     "output_type": "stream",
     "text": [
      "_________________________________________________________________\n",
      "Layer (type)                 Output Shape              Param #   \n",
      "=================================================================\n",
      "input_3 (InputLayer)         (None, 340, 340, 3)       0         \n",
      "_________________________________________________________________\n",
      "block1_conv1 (Conv2D)        (None, 340, 340, 64)      1792      \n",
      "_________________________________________________________________\n",
      "block1_conv2 (Conv2D)        (None, 340, 340, 64)      36928     \n",
      "_________________________________________________________________\n",
      "block1_pool (MaxPooling2D)   (None, 170, 170, 64)      0         \n",
      "_________________________________________________________________\n",
      "block2_conv1 (Conv2D)        (None, 170, 170, 128)     73856     \n",
      "_________________________________________________________________\n",
      "block2_conv2 (Conv2D)        (None, 170, 170, 128)     147584    \n",
      "_________________________________________________________________\n",
      "block2_pool (MaxPooling2D)   (None, 85, 85, 128)       0         \n",
      "_________________________________________________________________\n",
      "block3_conv1 (Conv2D)        (None, 85, 85, 256)       295168    \n",
      "_________________________________________________________________\n",
      "block3_conv2 (Conv2D)        (None, 85, 85, 256)       590080    \n",
      "_________________________________________________________________\n",
      "block3_conv3 (Conv2D)        (None, 85, 85, 256)       590080    \n",
      "_________________________________________________________________\n",
      "block3_pool (MaxPooling2D)   (None, 42, 42, 256)       0         \n",
      "_________________________________________________________________\n",
      "block4_conv1 (Conv2D)        (None, 42, 42, 512)       1180160   \n",
      "_________________________________________________________________\n",
      "block4_conv2 (Conv2D)        (None, 42, 42, 512)       2359808   \n",
      "_________________________________________________________________\n",
      "block4_conv3 (Conv2D)        (None, 42, 42, 512)       2359808   \n",
      "_________________________________________________________________\n",
      "block4_pool (MaxPooling2D)   (None, 21, 21, 512)       0         \n",
      "_________________________________________________________________\n",
      "block5_conv1 (Conv2D)        (None, 21, 21, 512)       2359808   \n",
      "_________________________________________________________________\n",
      "block5_conv2 (Conv2D)        (None, 21, 21, 512)       2359808   \n",
      "_________________________________________________________________\n",
      "block5_conv3 (Conv2D)        (None, 21, 21, 512)       2359808   \n",
      "_________________________________________________________________\n",
      "block5_pool (MaxPooling2D)   (None, 10, 10, 512)       0         \n",
      "=================================================================\n",
      "Total params: 14,714,688\n",
      "Trainable params: 14,714,688\n",
      "Non-trainable params: 0\n",
      "_________________________________________________________________\n",
      "None\n",
      "_________________________________________________________________\n",
      "Layer (type)                 Output Shape              Param #   \n",
      "=================================================================\n",
      "input_3 (InputLayer)         (None, 340, 340, 3)       0         \n",
      "_________________________________________________________________\n",
      "block1_conv1 (Conv2D)        (None, 340, 340, 64)      1792      \n",
      "_________________________________________________________________\n",
      "block1_conv2 (Conv2D)        (None, 340, 340, 64)      36928     \n",
      "_________________________________________________________________\n",
      "block1_pool (MaxPooling2D)   (None, 170, 170, 64)      0         \n",
      "_________________________________________________________________\n",
      "block2_conv1 (Conv2D)        (None, 170, 170, 128)     73856     \n",
      "_________________________________________________________________\n",
      "block2_conv2 (Conv2D)        (None, 170, 170, 128)     147584    \n",
      "_________________________________________________________________\n",
      "block2_pool (MaxPooling2D)   (None, 85, 85, 128)       0         \n",
      "_________________________________________________________________\n",
      "block3_conv1 (Conv2D)        (None, 85, 85, 256)       295168    \n",
      "_________________________________________________________________\n",
      "block3_conv2 (Conv2D)        (None, 85, 85, 256)       590080    \n",
      "_________________________________________________________________\n",
      "block3_conv3 (Conv2D)        (None, 85, 85, 256)       590080    \n",
      "_________________________________________________________________\n",
      "block3_pool (MaxPooling2D)   (None, 42, 42, 256)       0         \n",
      "_________________________________________________________________\n",
      "block4_conv1 (Conv2D)        (None, 42, 42, 512)       1180160   \n",
      "_________________________________________________________________\n",
      "block4_conv2 (Conv2D)        (None, 42, 42, 512)       2359808   \n",
      "_________________________________________________________________\n",
      "block4_conv3 (Conv2D)        (None, 42, 42, 512)       2359808   \n",
      "_________________________________________________________________\n",
      "block4_pool (MaxPooling2D)   (None, 21, 21, 512)       0         \n",
      "_________________________________________________________________\n",
      "block5_conv1 (Conv2D)        (None, 21, 21, 512)       2359808   \n",
      "_________________________________________________________________\n",
      "block5_conv2 (Conv2D)        (None, 21, 21, 512)       2359808   \n",
      "_________________________________________________________________\n",
      "block5_conv3 (Conv2D)        (None, 21, 21, 512)       2359808   \n",
      "_________________________________________________________________\n",
      "block5_pool (MaxPooling2D)   (None, 10, 10, 512)       0         \n",
      "_________________________________________________________________\n",
      "dense_6 (Dense)              (None, 10, 10, 512)       262656    \n",
      "=================================================================\n",
      "Total params: 14,977,344\n",
      "Trainable params: 262,656\n",
      "Non-trainable params: 14,714,688\n",
      "_________________________________________________________________\n",
      "None\n"
     ]
    }
   ],
   "source": [
    "m = keras.applications.vgg16.VGG16(include_top=False, weights='imagenet', input_tensor=a, input_shape=[340, 340, 3], pooling=max)\n",
    "\n",
    "print(m.summary())\n",
    "\n",
    "for layer in m.layers:\n",
    "    layer.trainable = False\n",
    "    \n",
    "x = m.output\n",
    "x = keras.layers.Dense(512, activation='relu')(x)\n",
    "\n",
    "model = keras.models.Model(inputs=m.input, outputs = x)\n",
    "print(model.summary())"
   ]
  }
 ],
 "metadata": {
  "kernelspec": {
   "display_name": "Python 3",
   "language": "python",
   "name": "python3"
  },
  "language_info": {
   "codemirror_mode": {
    "name": "ipython",
    "version": 3
   },
   "file_extension": ".py",
   "mimetype": "text/x-python",
   "name": "python",
   "nbconvert_exporter": "python",
   "pygments_lexer": "ipython3",
   "version": "3.6.2"
  }
 },
 "nbformat": 4,
 "nbformat_minor": 2
}
