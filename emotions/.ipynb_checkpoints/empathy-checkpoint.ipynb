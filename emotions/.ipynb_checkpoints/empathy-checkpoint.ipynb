{
 "cells": [
  {
   "cell_type": "code",
   "execution_count": 29,
   "metadata": {},
   "outputs": [
    {
     "name": "stdout",
     "output_type": "stream",
     "text": [
      "('S005_001_00000011_emotion', '3')\n"
     ]
    }
   ],
   "source": [
    "import os\n",
    "\n",
    "emotions = []\n",
    "for path, name, files in os.walk('Emotion'):\n",
    "    for file in files:\n",
    "        if(file):\n",
    "            with open(os.path.join(path, file)) as curf:\n",
    "                emotions.append((file[:-4], curf.read().strip(' ')[:1]))\n",
    "\n",
    "print(emotions[0])                "
   ]
  },
  {
   "cell_type": "code",
   "execution_count": null,
   "metadata": {
    "collapsed": true
   },
   "outputs": [],
   "source": []
  }
 ],
 "metadata": {
  "kernelspec": {
   "display_name": "Python 3",
   "language": "python",
   "name": "python3"
  },
  "language_info": {
   "codemirror_mode": {
    "name": "ipython",
    "version": 3
   },
   "file_extension": ".py",
   "mimetype": "text/x-python",
   "name": "python",
   "nbconvert_exporter": "python",
   "pygments_lexer": "ipython3",
   "version": "3.6.1"
  }
 },
 "nbformat": 4,
 "nbformat_minor": 2
}
