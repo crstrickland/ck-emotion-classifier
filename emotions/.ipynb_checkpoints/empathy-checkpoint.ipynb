{
 "cells": [
  {
   "cell_type": "code",
   "execution_count": 1,
   "metadata": {
    "collapsed": true
   },
   "outputs": [],
   "source": [
    "from __future__ import absolute_import\n",
    "from __future__ import division\n",
    "from __future__ import print_function\n",
    "\n",
    "import tensorflow as tf\n",
    "import os\n",
    "import numpy as np\n",
    "import cv2\n",
    "import random\n",
    "\n",
    "\n",
    "\n",
    "tf.logging.set_verbosity(tf.logging.INFO)\n",
    "\n",
    "# emotion coding: 0=neutral, 1=anger, 2=contempt, 3=disgust, 4=fear, 5=happy, 6=sadness, 7=surprise\n",
    "e_labels = [0, 1, 2, 3, 4, 5, 6, 7]"
   ]
  },
  {
   "cell_type": "code",
   "execution_count": 2,
   "metadata": {},
   "outputs": [
    {
     "name": "stdout",
     "output_type": "stream",
     "text": [
      "('Emotion\\\\S005\\\\001\\\\S005_001_00000011_emotion.txt', 'S005_001_00000011_emotion', 3)\n",
      "[[  0   0   0 ...,   0   0   0]\n",
      " [  0   0   0 ...,   0   0   0]\n",
      " [  0   0   0 ...,   0   0   0]\n",
      " ..., \n",
      " [187 189 189 ...,  78  84  92]\n",
      " [186 188 186 ...,  87  93  97]\n",
      " [192 189 185 ...,  92  98 100]]\n",
      "327\n"
     ]
    }
   ],
   "source": [
    "emotions = []\n",
    "for path, name, files in os.walk('Emotion'):\n",
    "    for file in files:\n",
    "        if(file):\n",
    "            with open(os.path.join(path, file)) as curf:\n",
    "                emotions.append((os.path.join(path, file), file[:-4], int(curf.read().strip(' ')[:1])))\n",
    "\n",
    "print(emotions[0])\n",
    "img = os.path.join('aligned', emotions[0][1][:-8] + '.png')\n",
    "print(cv2.imread(img, 0))\n",
    "\n",
    "print(len(emotions))"
   ]
  },
  {
   "cell_type": "code",
   "execution_count": 3,
   "metadata": {
    "collapsed": true
   },
   "outputs": [],
   "source": [
    "# let's pick 40 eval samples, too bad this dataset is so small\n",
    "evals = []\n",
    "for k in range(40):\n",
    "    evals.append(random.randrange(326))\n",
    "    "
   ]
  },
  {
   "cell_type": "code",
   "execution_count": 4,
   "metadata": {},
   "outputs": [
    {
     "name": "stdout",
     "output_type": "stream",
     "text": [
      "(289, 115600)\n"
     ]
    },
    {
     "data": {
      "text/plain": [
       "array([[   0.,    0.,    0., ...,   92.,   98.,  100.],\n",
       "       [  14.,   13.,   12., ...,    0.,    0.,    0.],\n",
       "       [  12.,   11.,   11., ...,  145.,  146.,  146.],\n",
       "       ..., \n",
       "       [  63.,   62.,   61., ...,   56.,   55.,   55.],\n",
       "       [  57.,   59.,   64., ...,   35.,   39.,   45.],\n",
       "       [  51.,   54.,   56., ...,   39.,   38.,   39.]], dtype=float32)"
      ]
     },
     "execution_count": 4,
     "metadata": {},
     "output_type": "execute_result"
    }
   ],
   "source": [
    "# want shape (num images, 115,600)\n",
    "data = []\n",
    "labels = []\n",
    "eval_data = []\n",
    "eval_labels = []\n",
    "\n",
    "\n",
    "for i in range(len(emotions)):\n",
    "    im = os.path.join(os.path.join('aligned', emotions[i][1][:-8] + '.png'))\n",
    "    im_lst = cv2.imread(im, 0)\n",
    "    if(i in evals):\n",
    "        eval_data.append(im_lst.flatten())\n",
    "        eval_labels.append(emotions[i][2])\n",
    "    else:\n",
    "        data.append(im_lst.flatten())\n",
    "        labels.append(emotions[i][2])\n",
    "\n",
    "npdata = np.array(data, dtype=np.float32)\n",
    "nplabels = np.array(labels, dtype=np.int32)\n",
    "npeval_data = np.array(eval_data, dtype=np.float32)\n",
    "npeval_labels = np.array(eval_labels, dtype=np.int32)\n",
    "\n",
    "print(npdata.shape)\n",
    "npdata"
   ]
  },
  {
   "cell_type": "code",
   "execution_count": null,
   "metadata": {
    "collapsed": true
   },
   "outputs": [],
   "source": [
    "# we have 340x340px images\n",
    "def cnn_model(features, labels, mode):\n",
    "    input_layer = tf.reshape(features['x'], [-1, 340, 340, 1])\n",
    "    \n",
    "    conv1 = tf.layers.conv2d(\n",
    "        inputs=input_layer,\n",
    "        filters=64,\n",
    "        kernel_size=[3, 3],\n",
    "        padding=\"same\",\n",
    "        activation=tf.nn.relu)\n",
    "    # shape [batch size, 340, 340, 64]\n",
    "    \n",
    "    pool1 = tf.layers.max_pooling2d(inputs=conv1, pool_size=[2, 2], strides=2)\n",
    "    # shape [batch size, 170, 170, 64]\n",
    "    \n",
    "    conv2 = tf.layers.conv2d(\n",
    "        inputs=pool1,\n",
    "        filters=128,\n",
    "        kernel_size=[3, 3],\n",
    "        padding=\"same\",\n",
    "        activation=tf.nn.relu)\n",
    "    # shape [batch size, 170, 170, 128]\n",
    "    \n",
    "    pool2 = tf.layers.max_pooling2d(inputs=conv2, pool_size=[2, 2], strides=1, padding=\"same\")\n",
    "    # shape [batch size, 81, 81, 64]\n",
    "    print(tf.shape(pool2))\n",
    "    \n",
    "    # padded_pool2 = tf.pad(pool2, [[1, 1], [1, 1]], \"CONSTANT\")\n",
    "    # print(tf.shape(padded_pool2))\n",
    "    pool2_flat = tf.reshape(pool2, [-1, 85 * 85 * 64])\n",
    "    \n",
    "    dense=tf.layers.dense(inputs=pool2_flat, units=1024, activation=tf.nn.relu)\n",
    "    \n",
    "    dropout = tf.layers.dropout(inputs=dense, rate=.4, training=mode == tf.estimator.ModeKeys.TRAIN)\n",
    "    \n",
    "    logits = tf.layers.dense(inputs=dropout, units=8)\n",
    "    \n",
    "    predictions = {\n",
    "        \"classes\":tf.argmax(input=logits, axis=1),\n",
    "        \"probabilities\": tf.nn.softmax(logits, name=\"softmax_tensor\")\n",
    "    }\n",
    "    \n",
    "    if mode == tf.estimator.ModeKeys.PREDICT:\n",
    "        return tf.estimator.EstimatorSpec(mode=mode, predictions=predictions)\n",
    "    \n",
    "    onehot_lables = tf.one_hot(indices=tf.cast(labels, tf.int32), depth=8)\n",
    "    loss = tf.losses.softmax_cross_entropy(onehot_labels=onehot_labels, logits=logits)\n",
    "    \n",
    "    if mode == tf.estimator.ModeKeys.TRAIN:\n",
    "        optimizer = tf.train.GradientDescentOptimizer(learning_rate=.001)\n",
    "        train_op=optimizer.minimize(\n",
    "            loss=loss,\n",
    "            global_stop=tf.train.get_global_step())\n",
    "        return tf.estimator.EstimatorSpec(mode=mode, loss=loss, training_op=train_op)\n",
    "    \n",
    "    eval_metric_ops = {\n",
    "        \"accuracy\":tf.metrics.accuracy(\n",
    "            labels=labels, predictions=predictions[\"classes\"])\n",
    "    }\n",
    "    \n",
    "    return tf.estimator.EstimatorSpec(\n",
    "        mode=mode, loss=loss, eval_metric_ops=eval_metric_ops)\n",
    "\n"
   ]
  },
  {
   "cell_type": "code",
   "execution_count": null,
   "metadata": {},
   "outputs": [],
   "source": [
    "ck_classifier = tf.estimator.Estimator(model_fn=cnn_model, model_dir=\"models\")"
   ]
  },
  {
   "cell_type": "code",
   "execution_count": null,
   "metadata": {
    "scrolled": true
   },
   "outputs": [],
   "source": [
    "tensors_to_log = {\"probabilities\":\"softmax_tensor\"}\n",
    "logging_hook = tf.train.LoggingTensorHook(tensors=tensors_to_log, every_n_iter=50)\n",
    "\n",
    "train_input_fn = tf.estimator.inputs.numpy_input_fn(\n",
    "    x={\"x\":npdata},\n",
    "    y=nplabels,\n",
    "    batch_size=10,\n",
    "    num_epochs=None,\n",
    "    shuffle=True)\n",
    "\n",
    "ck_classifier.train(\n",
    "                input_fn=train_input_fn,\n",
    "                steps=2000,\n",
    "                hooks=[logging_hook])"
   ]
  },
  {
   "cell_type": "code",
   "execution_count": null,
   "metadata": {
    "scrolled": true
   },
   "outputs": [],
   "source": [
    "eval_input_fn=tf.estimator.inputs.numpy_input_fn(\n",
    "    x={\"x\":npeval_data},\n",
    "    y=npeval_labels,\n",
    "    num_epochs=1,\n",
    "    shuffle=False)\n",
    "\n",
    "eval_results=ck_classifier.evaluate(input_fn=eval_input_fn)\n",
    "print(eval_results)"
   ]
  },
  {
   "cell_type": "code",
   "execution_count": null,
   "metadata": {
    "collapsed": true
   },
   "outputs": [],
   "source": []
  },
  {
   "cell_type": "code",
   "execution_count": null,
   "metadata": {
    "collapsed": true
   },
   "outputs": [],
   "source": []
  }
 ],
 "metadata": {
  "kernelspec": {
   "display_name": "Python 3",
   "language": "python",
   "name": "python3"
  },
  "language_info": {
   "codemirror_mode": {
    "name": "ipython",
    "version": 3
   },
   "file_extension": ".py",
   "mimetype": "text/x-python",
   "name": "python",
   "nbconvert_exporter": "python",
   "pygments_lexer": "ipython3",
   "version": "3.6.2"
  }
 },
 "nbformat": 4,
 "nbformat_minor": 2
}
