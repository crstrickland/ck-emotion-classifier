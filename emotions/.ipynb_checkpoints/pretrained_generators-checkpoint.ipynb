{
 "cells": [
  {
   "cell_type": "code",
   "execution_count": 1,
   "metadata": {},
   "outputs": [
    {
     "name": "stderr",
     "output_type": "stream",
     "text": [
      "Using TensorFlow backend.\n"
     ]
    }
   ],
   "source": [
    "import keras\n",
    "from keras.preprocessing.image import ImageDataGenerator\n",
    "\n",
    "\n",
    "from __future__ import absolute_import\n",
    "from __future__ import division\n",
    "from __future__ import print_function\n",
    "\n",
    "import tensorflow as tf\n",
    "import os\n",
    "import numpy as np\n",
    "import cv2\n",
    "import random\n",
    "\n",
    "tf.logging.set_verbosity(tf.logging.INFO)\n",
    "\n",
    "# emotion coding: 0=neutral, 1=anger, 2=contempt, 3=disgust, 4=fear, 5=happy, 6=sadness, 7=surprise"
   ]
  },
  {
   "cell_type": "code",
   "execution_count": 2,
   "metadata": {
    "collapsed": true
   },
   "outputs": [],
   "source": [
    "# There are only labels in the dataset for the last image in a sequence, but the few before that are \n",
    "# still quite expressive. Including them will greatly augment our dataset. \n",
    "# The images need to be moved so keras' generators will work\n",
    "\n",
    "def move_tagged_images():\n",
    "    train_path = os.path.join(\"aligned\", \"train\")\n",
    "    valid_path = os.path.join(\"aligned\", \"valid\")\n",
    "    path = \"\"\n",
    "    training = 0\n",
    "    valid = 0\n",
    "    \n",
    "    for path, name, files in os.walk('Emotion'):\n",
    "\n",
    "        for file in files:\n",
    "            if(file):\n",
    "                with open(os.path.join(path, file)) as curf:\n",
    "                    n = int(file[-14:-12])\n",
    "                    print(n)\n",
    "                    \n",
    "                    score = int(curf.read().strip(' ')[:1]) + 1\n",
    "                    print(\"score\", score)\n",
    "                    \n",
    "                    for i in range(4):\n",
    "                        fi = file[:-14] + str(n - i).zfill(2) + \".png\"\n",
    "                        \n",
    "                        if(random.randint(1, 10) < 8):\n",
    "                            path = train_path\n",
    "                            training = training + 1\n",
    "                        else:\n",
    "                            path = valid_path\n",
    "                            valid = valid + 1\n",
    "                        \n",
    "                        print(\"moved\", os.path.join(\"aligned\", fi), \"to\", os.path.join(path, str(score), fi))\n",
    "                        try:\n",
    "                            os.rename(os.path.join(\"aligned\", fi), os.path.join(path, str(score), fi))\n",
    "                        except:\n",
    "                            pass\n",
    "                        \n",
    "    print(\"training, valid\", training, valid)\n",
    "    \n",
    "                    "
   ]
  },
  {
   "cell_type": "code",
   "execution_count": 2,
   "metadata": {
    "collapsed": true
   },
   "outputs": [],
   "source": [
    "train_dir = os.path.join(\"aligned\", \"train\")\n",
    "valid_dir = os.path.join(\"aligned\", \"valid\")\n",
    "batch_size = 2\n",
    "nb_train = 931\n",
    "nb_valid = 381\n",
    "img_w, img_h = 340, 340\n",
    "steps_per_epoch = nb_train // batch_size\n",
    "valid_steps = nb_valid // batch_size\n",
    "epochs = 30"
   ]
  },
  {
   "cell_type": "code",
   "execution_count": 4,
   "metadata": {
    "collapsed": true
   },
   "outputs": [],
   "source": [
    "\n",
    "train_datagen = ImageDataGenerator(\n",
    "                rescale = 1./255,\n",
    "                horizontal_flip = True)\n",
    "\n",
    "test_datagen = ImageDataGenerator(rescale=1./255)\n"
   ]
  },
  {
   "cell_type": "code",
   "execution_count": 5,
   "metadata": {},
   "outputs": [
    {
     "name": "stdout",
     "output_type": "stream",
     "text": [
      "Found 931 images belonging to 8 classes.\n",
      "Found 381 images belonging to 8 classes.\n"
     ]
    }
   ],
   "source": [
    "train_data = train_datagen.flow_from_directory(train_dir, batch_size = batch_size, target_size = (340, 340), class_mode=\"categorical\")\n",
    "valid_data = test_datagen.flow_from_directory(valid_dir, batch_size = batch_size, target_size = (340, 340), class_mode=\"categorical\")"
   ]
  },
  {
   "cell_type": "code",
   "execution_count": 6,
   "metadata": {},
   "outputs": [
    {
     "name": "stdout",
     "output_type": "stream",
     "text": [
      "['__class__', '__delattr__', '__dict__', '__dir__', '__doc__', '__eq__', '__format__', '__ge__', '__getattribute__', '__gt__', '__hash__', '__init__', '__init_subclass__', '__iter__', '__le__', '__lt__', '__module__', '__ne__', '__new__', '__next__', '__reduce__', '__reduce_ex__', '__repr__', '__setattr__', '__sizeof__', '__str__', '__subclasshook__', '__weakref__', '_flow_index', 'batch_index', 'batch_size', 'class_indices', 'class_mode', 'classes', 'color_mode', 'data_format', 'directory', 'filenames', 'image_data_generator', 'image_shape', 'index_generator', 'lock', 'n', 'next', 'num_class', 'reset', 'samples', 'save_format', 'save_prefix', 'save_to_dir', 'shuffle', 'target_size', 'total_batches_seen']\n",
      "(340, 340, 3)\n",
      "{'1': 0, '2': 1, '3': 2, '4': 3, '5': 4, '6': 5, '7': 6, '8': 7}\n",
      "channels_last\n",
      "categorical\n",
      "(340, 340)\n"
     ]
    }
   ],
   "source": [
    "print(dir(train_data))\n",
    "print(train_data.image_shape)\n",
    "print(train_data.class_indices)\n",
    "print(train_data.data_format)\n",
    "print(train_data.class_mode)\n",
    "print(train_data.target_size)"
   ]
  },
  {
   "cell_type": "code",
   "execution_count": 8,
   "metadata": {},
   "outputs": [
    {
     "name": "stdout",
     "output_type": "stream",
     "text": [
      "_________________________________________________________________\n",
      "Layer (type)                 Output Shape              Param #   \n",
      "=================================================================\n",
      "input_1 (InputLayer)         (None, 340, 340, 3)       0         \n",
      "_________________________________________________________________\n",
      "block1_conv1 (Conv2D)        (None, 340, 340, 64)      1792      \n",
      "_________________________________________________________________\n",
      "block1_conv2 (Conv2D)        (None, 340, 340, 64)      36928     \n",
      "_________________________________________________________________\n",
      "block1_pool (MaxPooling2D)   (None, 170, 170, 64)      0         \n",
      "_________________________________________________________________\n",
      "block2_conv1 (Conv2D)        (None, 170, 170, 128)     73856     \n",
      "_________________________________________________________________\n",
      "block2_conv2 (Conv2D)        (None, 170, 170, 128)     147584    \n",
      "_________________________________________________________________\n",
      "block2_pool (MaxPooling2D)   (None, 85, 85, 128)       0         \n",
      "_________________________________________________________________\n",
      "block3_conv1 (Conv2D)        (None, 85, 85, 256)       295168    \n",
      "_________________________________________________________________\n",
      "block3_conv2 (Conv2D)        (None, 85, 85, 256)       590080    \n",
      "_________________________________________________________________\n",
      "block3_conv3 (Conv2D)        (None, 85, 85, 256)       590080    \n",
      "_________________________________________________________________\n",
      "block3_pool (MaxPooling2D)   (None, 42, 42, 256)       0         \n",
      "_________________________________________________________________\n",
      "block4_conv1 (Conv2D)        (None, 42, 42, 512)       1180160   \n",
      "_________________________________________________________________\n",
      "block4_conv2 (Conv2D)        (None, 42, 42, 512)       2359808   \n",
      "_________________________________________________________________\n",
      "block4_conv3 (Conv2D)        (None, 42, 42, 512)       2359808   \n",
      "_________________________________________________________________\n",
      "block4_pool (MaxPooling2D)   (None, 21, 21, 512)       0         \n",
      "_________________________________________________________________\n",
      "block5_conv1 (Conv2D)        (None, 21, 21, 512)       2359808   \n",
      "_________________________________________________________________\n",
      "block5_conv2 (Conv2D)        (None, 21, 21, 512)       2359808   \n",
      "_________________________________________________________________\n",
      "block5_conv3 (Conv2D)        (None, 21, 21, 512)       2359808   \n",
      "_________________________________________________________________\n",
      "block5_pool (MaxPooling2D)   (None, 10, 10, 512)       0         \n",
      "_________________________________________________________________\n",
      "dense_1 (Dense)              (None, 10, 10, 512)       262656    \n",
      "_________________________________________________________________\n",
      "dense_2 (Dense)              (None, 10, 10, 256)       131328    \n",
      "_________________________________________________________________\n",
      "flatten_1 (Flatten)          (None, 25600)             0         \n",
      "_________________________________________________________________\n",
      "dense_3 (Dense)              (None, 8)                 204808    \n",
      "=================================================================\n",
      "Total params: 15,313,480\n",
      "Trainable params: 598,792\n",
      "Non-trainable params: 14,714,688\n",
      "_________________________________________________________________\n",
      "None\n"
     ]
    }
   ],
   "source": [
    "m = keras.applications.vgg16.VGG16(include_top=False, weights='imagenet', input_shape=[340, 340, 3], pooling=max)\n",
    "\n",
    "for layer in m.layers:\n",
    "    layer.trainable = False\n",
    "    \n",
    "x = m.output\n",
    "\n",
    "#x = keras.layers.Flatten()(x)\n",
    "x = keras.layers.Dense(512, activation='relu')(x)\n",
    "x = keras.layers.Dense(256, activation='relu')(x)\n",
    "x = keras.layers.Flatten()(x)\n",
    "x = keras.layers.Dense(8, activation='softmax')(x)\n",
    "\n",
    "model = keras.models.Model(inputs=m.input, outputs = x)\n",
    "model.compile(optimizer='adagrad', loss='categorical_crossentropy', metrics=['accuracy'])\n",
    "print(model.summary())"
   ]
  },
  {
   "cell_type": "code",
   "execution_count": 9,
   "metadata": {
    "scrolled": true
   },
   "outputs": [
    {
     "name": "stdout",
     "output_type": "stream",
     "text": [
      "Epoch 1/30\n",
      "465/465 [==============================] - 37s - loss: 12.1200 - acc: 0.2462 - val_loss: 11.8341 - val_acc: 0.2658\n",
      "Epoch 2/30\n",
      "465/465 [==============================] - 36s - loss: 12.1146 - acc: 0.2484 - val_loss: 11.9078 - val_acc: 0.2612\n",
      "Epoch 3/30\n",
      "465/465 [==============================] - 36s - loss: 12.1319 - acc: 0.2473 - val_loss: 11.9504 - val_acc: 0.2586\n",
      "Epoch 4/30\n",
      "465/465 [==============================] - 36s - loss: 12.1492 - acc: 0.2462 - val_loss: 11.7377 - val_acc: 0.2718\n",
      "Epoch 5/30\n",
      "465/465 [==============================] - 36s - loss: 12.1146 - acc: 0.2484 - val_loss: 11.9078 - val_acc: 0.2612\n",
      "Epoch 6/30\n",
      "465/465 [==============================] - 36s - loss: 12.0799 - acc: 0.2505 - val_loss: 11.6101 - val_acc: 0.2797\n",
      "Epoch 7/30\n",
      "465/465 [==============================] - 36s - loss: 12.2012 - acc: 0.2430 - val_loss: 11.9078 - val_acc: 0.2612\n",
      "Epoch 8/30\n",
      "465/465 [==============================] - 36s - loss: 12.0106 - acc: 0.2548 - val_loss: 11.7802 - val_acc: 0.2691\n",
      "Epoch 9/30\n",
      "465/465 [==============================] - 36s - loss: 12.2012 - acc: 0.2430 - val_loss: 11.7377 - val_acc: 0.2718\n",
      "Epoch 10/30\n",
      "465/465 [==============================] - 36s - loss: 12.0799 - acc: 0.2505 - val_loss: 11.9078 - val_acc: 0.2612\n",
      "Epoch 11/30\n",
      "465/465 [==============================] - 36s - loss: 12.1319 - acc: 0.2473 - val_loss: 11.6952 - val_acc: 0.2744\n",
      "Epoch 12/30\n",
      "465/465 [==============================] - 36s - loss: 12.0799 - acc: 0.2505 - val_loss: 12.0354 - val_acc: 0.2533\n",
      "Epoch 13/30\n",
      "465/465 [==============================] - 36s - loss: 12.2359 - acc: 0.2409 - val_loss: 11.8228 - val_acc: 0.2665\n",
      "Epoch 14/30\n",
      "465/465 [==============================] - 36s - loss: 12.0799 - acc: 0.2505 - val_loss: 11.6101 - val_acc: 0.2797\n",
      "Epoch 15/30\n",
      "465/465 [==============================] - 36s - loss: 12.1666 - acc: 0.2452 - val_loss: 11.8653 - val_acc: 0.2639\n",
      "Epoch 16/30\n",
      "465/465 [==============================] - 36s - loss: 12.0626 - acc: 0.2516 - val_loss: 11.7802 - val_acc: 0.2691\n",
      "Epoch 17/30\n",
      "465/465 [==============================] - 36s - loss: 12.1492 - acc: 0.2462 - val_loss: 11.9929 - val_acc: 0.2559\n",
      "Epoch 18/30\n",
      "465/465 [==============================] - 36s - loss: 12.0973 - acc: 0.2495 - val_loss: 11.7377 - val_acc: 0.2718\n",
      "Epoch 19/30\n",
      "465/465 [==============================] - 36s - loss: 12.1492 - acc: 0.2462 - val_loss: 11.6952 - val_acc: 0.2744\n",
      "Epoch 20/30\n",
      "465/465 [==============================] - 36s - loss: 12.0279 - acc: 0.2538 - val_loss: 11.8653 - val_acc: 0.2639\n",
      "Epoch 21/30\n",
      "465/465 [==============================] - 36s - loss: 12.1146 - acc: 0.2484 - val_loss: 11.6952 - val_acc: 0.2744\n",
      "Epoch 22/30\n",
      "465/465 [==============================] - 36s - loss: 12.2359 - acc: 0.2409 - val_loss: 11.8653 - val_acc: 0.2639\n",
      "Epoch 23/30\n",
      "465/465 [==============================] - 36s - loss: 12.0972 - acc: 0.2495 - val_loss: 11.8653 - val_acc: 0.2639\n",
      "Epoch 24/30\n",
      "465/465 [==============================] - 36s - loss: 12.0279 - acc: 0.2538 - val_loss: 11.9929 - val_acc: 0.2559\n",
      "Epoch 25/30\n",
      "465/465 [==============================] - 37s - loss: 12.2185 - acc: 0.2419 - val_loss: 11.7377 - val_acc: 0.2718\n",
      "Epoch 26/30\n",
      "465/465 [==============================] - 36s - loss: 12.0799 - acc: 0.2505 - val_loss: 12.0779 - val_acc: 0.2507\n",
      "Epoch 27/30\n",
      "465/465 [==============================] - 36s - loss: 12.1492 - acc: 0.2462 - val_loss: 11.5251 - val_acc: 0.2850\n",
      "Epoch 28/30\n",
      "465/465 [==============================] - 36s - loss: 12.0106 - acc: 0.2548 - val_loss: 11.9929 - val_acc: 0.2559\n",
      "Epoch 29/30\n",
      "465/465 [==============================] - 36s - loss: 12.2185 - acc: 0.2419 - val_loss: 11.5676 - val_acc: 0.2823\n",
      "Epoch 30/30\n",
      "465/465 [==============================] - 36s - loss: 12.0972 - acc: 0.2495 - val_loss: 11.9504 - val_acc: 0.2586\n"
     ]
    }
   ],
   "source": [
    "model.fit_generator(train_data, \n",
    "                    steps_per_epoch = steps_per_epoch, \n",
    "                    epochs = epochs, \n",
    "                    validation_data = valid_data, \n",
    "                    validation_steps = valid_steps)\n",
    "model.save('third_try.h5')"
   ]
  },
  {
   "cell_type": "code",
   "execution_count": 3,
   "metadata": {},
   "outputs": [],
   "source": [
    "tmodel = keras.models.load_model('third_try.h5')"
   ]
  },
  {
   "cell_type": "code",
   "execution_count": null,
   "metadata": {},
   "outputs": [
    {
     "name": "stdout",
     "output_type": "stream",
     "text": [
      "(1, 340, 340, 3)\n"
     ]
    }
   ],
   "source": [
    "path = 'ptest5.png'\n",
    "\n",
    "img = cv2.cvtColor(cv2.imread(path, 0), cv2.COLOR_GRAY2BGR)\n",
    "\n",
    "nimg = cv2.normalize(img.astype('float'), None, 0, 1,norm_type=cv2.NORM_MINMAX)\n",
    "\n",
    "nimg = nimg[np.newaxis,:]\n",
    "print(nimg.shape)\n",
    "\n",
    "tmodel.predict(nimg, batch_size=1, verbose=1)"
   ]
  },
  {
   "cell_type": "code",
   "execution_count": 1,
   "metadata": {},
   "outputs": [
    {
     "ename": "NameError",
     "evalue": "name 'tmodel' is not defined",
     "output_type": "error",
     "traceback": [
      "\u001b[1;31m---------------------------------------------------------------------------\u001b[0m",
      "\u001b[1;31mNameError\u001b[0m                                 Traceback (most recent call last)",
      "\u001b[1;32m<ipython-input-1-02652e886ae5>\u001b[0m in \u001b[0;36m<module>\u001b[1;34m()\u001b[0m\n\u001b[1;32m----> 1\u001b[1;33m \u001b[0mtmodel\u001b[0m\u001b[1;33m.\u001b[0m\u001b[0mget_layer\u001b[0m\u001b[1;33m(\u001b[0m\u001b[0mname\u001b[0m\u001b[1;33m=\u001b[0m\u001b[1;34m'dense_3'\u001b[0m\u001b[1;33m)\u001b[0m\u001b[1;33m.\u001b[0m\u001b[0mget_weights\u001b[0m\u001b[1;33m(\u001b[0m\u001b[1;33m)\u001b[0m\u001b[1;33m\u001b[0m\u001b[0m\n\u001b[0m",
      "\u001b[1;31mNameError\u001b[0m: name 'tmodel' is not defined"
     ]
    }
   ],
   "source": [
    "tmodel.get_layer(name='dense_3').get_weights()"
   ]
  },
  {
   "cell_type": "code",
   "execution_count": 45,
   "metadata": {},
   "outputs": [
    {
     "name": "stdout",
     "output_type": "stream",
     "text": [
      "Found 381 images belonging to 8 classes.\n"
     ]
    },
    {
     "data": {
      "text/plain": [
       "array([[ 0.,  0.,  0.,  0.,  0.,  0.,  0.,  1.],\n",
       "       [ 0.,  0.,  0.,  0.,  0.,  0.,  0.,  1.],\n",
       "       [ 0.,  0.,  0.,  0.,  0.,  0.,  0.,  1.],\n",
       "       [ 0.,  0.,  0.,  0.,  0.,  0.,  0.,  1.],\n",
       "       [ 0.,  0.,  0.,  0.,  0.,  0.,  0.,  1.],\n",
       "       [ 0.,  0.,  0.,  0.,  0.,  0.,  0.,  1.],\n",
       "       [ 0.,  0.,  0.,  0.,  0.,  0.,  0.,  1.],\n",
       "       [ 0.,  0.,  0.,  0.,  0.,  0.,  0.,  1.],\n",
       "       [ 0.,  0.,  0.,  0.,  0.,  0.,  0.,  1.],\n",
       "       [ 0.,  0.,  0.,  0.,  0.,  0.,  0.,  1.]], dtype=float32)"
      ]
     },
     "execution_count": 45,
     "metadata": {},
     "output_type": "execute_result"
    }
   ],
   "source": [
    "pred_dir = os.path.join(\"aligned\", \"valid\")\n",
    "pred_datagen = ImageDataGenerator(rescale=1./255)\n",
    "pred_data = pred_datagen.flow_from_directory(pred_dir, batch_size = 2, target_size = (340, 340))\n",
    "\n",
    "tmodel.predict_generator(pred_data, steps=5, max_queue_size= 10, workers = 1)"
   ]
  }
 ],
 "metadata": {
  "kernelspec": {
   "display_name": "Python 3",
   "language": "python",
   "name": "python3"
  },
  "language_info": {
   "codemirror_mode": {
    "name": "ipython",
    "version": 3
   },
   "file_extension": ".py",
   "mimetype": "text/x-python",
   "name": "python",
   "nbconvert_exporter": "python",
   "pygments_lexer": "ipython3",
   "version": "3.6.2"
  }
 },
 "nbformat": 4,
 "nbformat_minor": 2
}
