{
 "cells": [
  {
   "cell_type": "code",
   "execution_count": 29,
   "metadata": {},
   "outputs": [
    {
     "ename": "ModuleNotFoundError",
     "evalue": "No module named 'sklearn'",
     "output_type": "error",
     "traceback": [
      "\u001b[1;31m---------------------------------------------------------------------------\u001b[0m",
      "\u001b[1;31mModuleNotFoundError\u001b[0m                       Traceback (most recent call last)",
      "\u001b[1;32m<ipython-input-29-7e634d0a2aa0>\u001b[0m in \u001b[0;36m<module>\u001b[1;34m()\u001b[0m\n\u001b[0;32m     10\u001b[0m \u001b[1;32mimport\u001b[0m \u001b[0mcv2\u001b[0m\u001b[1;33m\u001b[0m\u001b[0m\n\u001b[0;32m     11\u001b[0m \u001b[1;32mimport\u001b[0m \u001b[0mrandom\u001b[0m\u001b[1;33m\u001b[0m\u001b[0m\n\u001b[1;32m---> 12\u001b[1;33m \u001b[1;32mimport\u001b[0m \u001b[0msklearn\u001b[0m\u001b[1;33m\u001b[0m\u001b[0m\n\u001b[0m\u001b[0;32m     13\u001b[0m \u001b[1;33m\u001b[0m\u001b[0m\n\u001b[0;32m     14\u001b[0m \u001b[1;33m\u001b[0m\u001b[0m\n",
      "\u001b[1;31mModuleNotFoundError\u001b[0m: No module named 'sklearn'"
     ]
    }
   ],
   "source": [
    "import keras\n",
    "\n",
    "from __future__ import absolute_import\n",
    "from __future__ import division\n",
    "from __future__ import print_function\n",
    "\n",
    "import tensorflow as tf\n",
    "import os\n",
    "import numpy as np\n",
    "import cv2\n",
    "import random\n",
    "\n",
    "tf.logging.set_verbosity(tf.logging.INFO)\n",
    "\n",
    "# emotion coding: 0=neutral, 1=anger, 2=contempt, 3=disgust, 4=fear, 5=happy, 6=sadness, 7=surprise\n",
    "# e_labels = [0, 1, 2, 3, 4, 5, 6, 7]\n",
    "# this is not in the domain of our loss function, so we will increase all values by 1"
   ]
  },
  {
   "cell_type": "code",
   "execution_count": 34,
   "metadata": {},
   "outputs": [
    {
     "name": "stdout",
     "output_type": "stream",
     "text": [
      "('Emotion\\\\S005\\\\001\\\\S005_001_00000011_emotion.txt', 'S005_001_00000011_emotion', 4)\n",
      "327\n"
     ]
    }
   ],
   "source": [
    "def get_tagged_images():\n",
    "    emotions = []\n",
    "    for path, name, files in os.walk('Emotion'):\n",
    "        for file in files:\n",
    "            if(file):\n",
    "                with open(os.path.join(path, file)) as curf:\n",
    "                    emotions.append((os.path.join(path, file), file[:-4], int(curf.read().strip(' ')[:1]) + 1))\n",
    "\n",
    "    print(emotions[0])\n",
    "    \n",
    "    img = os.path.join('aligned', emotions[0][1][:-8] + '.png')\n",
    "    im = (cv2.imread(img, 0))\n",
    "    nim = cv2.normalize(im.astype('float'), None, 0, 1,norm_type=cv2.NORM_MINMAX)\n",
    "\n",
    "    print(len(emotions))\n",
    "    return emotions\n",
    "\n",
    "emotions = get_tagged_images()"
   ]
  },
  {
   "cell_type": "code",
   "execution_count": 42,
   "metadata": {},
   "outputs": [
    {
     "name": "stdout",
     "output_type": "stream",
     "text": [
      "(327, 115600)\n",
      "(115600,)\n"
     ]
    }
   ],
   "source": [
    "# want shape (num images, 115,600)\n",
    "\n",
    "def get_image_data():\n",
    "    \n",
    "    data = []\n",
    "    labels = []\n",
    "\n",
    "    for i in range(len(emotions)):        \n",
    "        im = os.path.join(os.path.join('aligned', emotions[i][1][:-8] + '.png'))\n",
    "        nimg = cv2.normalize(cv2.imread(im, 0).astype('float'), None, 0, 1,norm_type=cv2.NORM_MINMAX)\n",
    "\n",
    "        data.append(nimg.flatten())\n",
    "        labels.append(emotions[i][2])\n",
    "\n",
    "    npdata = np.array(data, dtype=np.float32)\n",
    "    nplabels = np.array(labels, dtype=np.int32)\n",
    "\n",
    "    assert not np.any(np.isnan(npdata))\n",
    "    assert not np.any(np.isnan(nplabels))\n",
    "\n",
    "    print(npdata.shape)\n",
    "    npdata\n",
    "    return npdata, nplabels\n",
    "    \n",
    "a, b = get_image_data()\n",
    "print(a[0].shape)"
   ]
  },
  {
   "cell_type": "code",
   "execution_count": 44,
   "metadata": {},
   "outputs": [
    {
     "name": "stdout",
     "output_type": "stream",
     "text": [
      "_________________________________________________________________\n",
      "Layer (type)                 Output Shape              Param #   \n",
      "=================================================================\n",
      "input_3 (InputLayer)         (None, 340, 340, 3)       0         \n",
      "_________________________________________________________________\n",
      "block1_conv1 (Conv2D)        (None, 340, 340, 64)      1792      \n",
      "_________________________________________________________________\n",
      "block1_conv2 (Conv2D)        (None, 340, 340, 64)      36928     \n",
      "_________________________________________________________________\n",
      "block1_pool (MaxPooling2D)   (None, 170, 170, 64)      0         \n",
      "_________________________________________________________________\n",
      "block2_conv1 (Conv2D)        (None, 170, 170, 128)     73856     \n",
      "_________________________________________________________________\n",
      "block2_conv2 (Conv2D)        (None, 170, 170, 128)     147584    \n",
      "_________________________________________________________________\n",
      "block2_pool (MaxPooling2D)   (None, 85, 85, 128)       0         \n",
      "_________________________________________________________________\n",
      "block3_conv1 (Conv2D)        (None, 85, 85, 256)       295168    \n",
      "_________________________________________________________________\n",
      "block3_conv2 (Conv2D)        (None, 85, 85, 256)       590080    \n",
      "_________________________________________________________________\n",
      "block3_conv3 (Conv2D)        (None, 85, 85, 256)       590080    \n",
      "_________________________________________________________________\n",
      "block3_pool (MaxPooling2D)   (None, 42, 42, 256)       0         \n",
      "_________________________________________________________________\n",
      "block4_conv1 (Conv2D)        (None, 42, 42, 512)       1180160   \n",
      "_________________________________________________________________\n",
      "block4_conv2 (Conv2D)        (None, 42, 42, 512)       2359808   \n",
      "_________________________________________________________________\n",
      "block4_conv3 (Conv2D)        (None, 42, 42, 512)       2359808   \n",
      "_________________________________________________________________\n",
      "block4_pool (MaxPooling2D)   (None, 21, 21, 512)       0         \n",
      "_________________________________________________________________\n",
      "block5_conv1 (Conv2D)        (None, 21, 21, 512)       2359808   \n",
      "_________________________________________________________________\n",
      "block5_conv2 (Conv2D)        (None, 21, 21, 512)       2359808   \n",
      "_________________________________________________________________\n",
      "block5_conv3 (Conv2D)        (None, 21, 21, 512)       2359808   \n",
      "_________________________________________________________________\n",
      "block5_pool (MaxPooling2D)   (None, 10, 10, 512)       0         \n",
      "=================================================================\n",
      "Total params: 14,714,688\n",
      "Trainable params: 14,714,688\n",
      "Non-trainable params: 0\n",
      "_________________________________________________________________\n"
     ]
    }
   ],
   "source": [
    "m = keras.applications.vgg16.VGG16(include_top=False, weights='imagenet', input_tensor=None, input_shape=[340, 340, 3], pooling=max)\n",
    "\n",
    "m.summary()"
   ]
  }
 ],
 "metadata": {
  "kernelspec": {
   "display_name": "Python 3",
   "language": "python",
   "name": "python3"
  },
  "language_info": {
   "codemirror_mode": {
    "name": "ipython",
    "version": 3
   },
   "file_extension": ".py",
   "mimetype": "text/x-python",
   "name": "python",
   "nbconvert_exporter": "python",
   "pygments_lexer": "ipython3",
   "version": "3.6.2"
  }
 },
 "nbformat": 4,
 "nbformat_minor": 2
}
